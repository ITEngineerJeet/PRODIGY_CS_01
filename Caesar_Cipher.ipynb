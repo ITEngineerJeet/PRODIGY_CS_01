{
  "nbformat": 4,
  "nbformat_minor": 0,
  "metadata": {
    "colab": {
      "provenance": []
    },
    "kernelspec": {
      "name": "python3",
      "display_name": "Python 3"
    },
    "language_info": {
      "name": "python"
    }
  },
  "cells": [
    {
      "cell_type": "markdown",
      "source": [
        "A Caesar cipher is a simple method of encoding messages. Caesar ciphers use a substitution method where letters in the alphabet are shifted by some fixed number of spaces to yield an encoding alphabet. A Caesar cipher with a shift of 1 would encode an A as a B, an M as an N, and a Z as an A, and so on."
      ],
      "metadata": {
        "id": "Sr9N_JPuYxks"
      }
    },
    {
      "cell_type": "code",
      "source": [
        "def caesar_cipher(text, shift, mode):\n",
        "    result = []\n",
        "    for char in text:\n",
        "        if char.isalpha():\n",
        "            if char.islower():\n",
        "                shifted_char = chr((ord(char) - ord('a') + shift) % 26 + ord('a'))\n",
        "            else:\n",
        "                shifted_char = chr((ord(char) - ord('A') + shift) % 26 + ord('A'))\n",
        "            result.append(shifted_char)\n",
        "        else:\n",
        "            result.append(char)\n",
        "    return ''.join(result)"
      ],
      "metadata": {
        "id": "3jPExcgTZy9-"
      },
      "execution_count": 13,
      "outputs": []
    },
    {
      "cell_type": "code",
      "source": [
        "def encrypt_message():\n",
        "    message = input(\"Enter message: \").strip()\n",
        "    try:\n",
        "        shift = int(input(\"Enter shift value: \").strip())\n",
        "    except ValueError:\n",
        "        print(\"Shift value must be an integer.\")\n",
        "        return\n",
        "\n",
        "    encrypted_text = caesar_cipher(message, shift, 'encrypt')\n",
        "    print(\"Encrypted message:\", encrypted_text)"
      ],
      "metadata": {
        "id": "v9_A7yrCZ02t"
      },
      "execution_count": 14,
      "outputs": []
    },
    {
      "cell_type": "code",
      "source": [
        "def decrypt_message():\n",
        "    encrypted_text = input(\"Enter encrypted message: \").strip()\n",
        "    try:\n",
        "        shift = int(input(\"Enter shift value: \").strip())\n",
        "    except ValueError:\n",
        "        print(\"Shift value must be an integer.\")\n",
        "        return\n",
        "\n",
        "    decrypted_text = caesar_cipher(encrypted_text, -shift, 'decrypt')\n",
        "    print(\"Decrypted message:\", decrypted_text)"
      ],
      "metadata": {
        "id": "Tf8LRc02Z5nl"
      },
      "execution_count": 15,
      "outputs": []
    },
    {
      "cell_type": "code",
      "source": [
        "def main():\n",
        "    print(\"Caesar Cipher Encryption/Decryption\")\n",
        "    while True:\n",
        "        print(\"\\n1. Encrypt a message\")\n",
        "        print(\"2. Decrypt an encrypted message\")\n",
        "        print(\"3. Exit\")\n",
        "        choice = input(\"Enter your choice (1/2/3): \").strip()\n",
        "\n",
        "        if choice == '1':\n",
        "            encrypt_message()\n",
        "        elif choice == '2':\n",
        "            decrypt_message()\n",
        "        elif choice == '3':\n",
        "            print(\"Exiting program.\")\n",
        "            break\n",
        "        else:\n",
        "            print(\"Invalid choice. Please enter 1, 2, or 3.\")\n",
        "\n",
        "if __name__ == \"__main__\":\n",
        "    main()"
      ],
      "metadata": {
        "colab": {
          "base_uri": "https://localhost:8080/"
        },
        "id": "FZ_Q4nT2Z8co",
        "outputId": "f20ce6e5-eaf2-400b-e199-2c29561cd717"
      },
      "execution_count": null,
      "outputs": [
        {
          "output_type": "stream",
          "name": "stdout",
          "text": [
            "Caesar Cipher Encryption/Decryption\n",
            "\n",
            "1. Encrypt a message\n",
            "2. Decrypt an encrypted message\n",
            "3. Exit\n",
            "Enter your choice (1/2/3): 1\n",
            "Enter message: Count Dracula\n",
            "Enter shift value: 3\n",
            "Encrypted message: Frxqw Gudfxod\n",
            "\n",
            "1. Encrypt a message\n",
            "2. Decrypt an encrypted message\n",
            "3. Exit\n",
            "Enter your choice (1/2/3): 2\n",
            "Enter encrypted message: Frxqw Gudfxod\n",
            "Enter shift value: 3\n",
            "Decrypted message: Count Dracula\n",
            "\n",
            "1. Encrypt a message\n",
            "2. Decrypt an encrypted message\n",
            "3. Exit\n",
            "Enter your choice (1/2/3): Jonathan Harker \n",
            "Invalid choice. Please enter 1, 2, or 3.\n",
            "\n",
            "1. Encrypt a message\n",
            "2. Decrypt an encrypted message\n",
            "3. Exit\n",
            "Enter your choice (1/2/3): 1\n",
            "Enter message: Jonathan Harker\n",
            "Enter shift value: 1\n",
            "Encrypted message: Kpobuibo Ibslfs\n",
            "\n",
            "1. Encrypt a message\n",
            "2. Decrypt an encrypted message\n",
            "3. Exit\n"
          ]
        }
      ]
    },
    {
      "cell_type": "code",
      "source": [],
      "metadata": {
        "id": "9imDjGggaMJk"
      },
      "execution_count": null,
      "outputs": []
    }
  ]
}